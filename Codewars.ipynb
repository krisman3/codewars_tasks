{
 "cells": [
  {
   "cell_type": "code",
   "execution_count": 24,
   "id": "4104ce32",
   "metadata": {},
   "outputs": [
    {
     "name": "stdout",
     "output_type": "stream",
     "text": [
      "['Hello', ' ', 'how', ' ', 'are', ' ', 'you']\n"
     ]
    },
    {
     "data": {
      "text/plain": [
       "'olleH woh era uoy'"
      ]
     },
     "execution_count": 24,
     "metadata": {},
     "output_type": "execute_result"
    }
   ],
   "source": [
    "def reverse_string(sentence):\n",
    "    sentence_list = []\n",
    "    current_word = []\n",
    "    for letter in sentence:\n",
    "        \n",
    "        if letter != ' ':\n",
    "            current_word.append(letter)\n",
    "        else:\n",
    "            sentence_list.append(''.join(current_word))\n",
    "            sentence_list.append(' ')\n",
    "            current_word = []\n",
    "            \n",
    "    if current_word:\n",
    "        sentence_list.append(''.join(current_word))\n",
    "    print(sentence_list)\n",
    "    \n",
    "    reversed_list = []\n",
    "    for word in sentence_list:\n",
    "        reversed_list.append(''.join(reversed(word)))\n",
    "        \n",
    "    reversed_string = ''.join(reversed_list)\n",
    "    return reversed_string\n",
    "        \n",
    "reverse_string('Hello how are you')"
   ]
  },
  {
   "cell_type": "code",
   "execution_count": 26,
   "id": "1037f4de",
   "metadata": {},
   "outputs": [
    {
     "data": {
      "text/plain": [
       "[1, 2]"
      ]
     },
     "execution_count": 26,
     "metadata": {},
     "output_type": "execute_result"
    }
   ],
   "source": [
    "def filter_list(l):\n",
    "    'return a new list with the strings filtered out'\n",
    "    return [x for x in l if not isinstance(x, str)]\n",
    "    \n",
    "    \n",
    "filter_list([1,2,'a','b'])"
   ]
  },
  {
   "cell_type": "code",
   "execution_count": 36,
   "id": "44157a3f",
   "metadata": {},
   "outputs": [
    {
     "data": {
      "text/plain": [
       "'s'"
      ]
     },
     "execution_count": 36,
     "metadata": {},
     "output_type": "execute_result"
    }
   ],
   "source": [
    "def get_middle(s):\n",
    "    if len(s) % 2 == 0:\n",
    "        return s[len(s) // 2 - 1: (len(s) // 2) + 1]\n",
    "    else:\n",
    "        return s[(len(s) // 2) ]\n",
    "    \n",
    "get_middle('testt')"
   ]
  },
  {
   "cell_type": "code",
   "execution_count": null,
   "id": "47c71137",
   "metadata": {},
   "outputs": [],
   "source": [
    "def is_isogram(string):\n",
    "    dict_iso = {}\n",
    "    for key in string.lower():\n",
    "        if key not in dict_iso:\n",
    "            dict_iso[key] = 1\n",
    "        else:\n",
    "            dict_iso[key] += 1\n",
    "    for x in dict_iso.values():\n",
    "        if x > 1:\n",
    "            return False\n",
    "    return True"
   ]
  },
  {
   "cell_type": "code",
   "execution_count": 39,
   "id": "df89888e",
   "metadata": {},
   "outputs": [
    {
     "data": {
      "text/plain": [
       "[1, 1, 2, 1, 3, 0, 0]"
      ]
     },
     "execution_count": 39,
     "metadata": {},
     "output_type": "execute_result"
    }
   ],
   "source": [
    "def move_zeros(lst):\n",
    "    zeroes = []\n",
    "    new_lst = []\n",
    "    for i in lst:\n",
    "        if i == 0:\n",
    "            zeroes.append(i)\n",
    "        else:\n",
    "            new_lst.append(i)\n",
    "    new_lst.extend(zeroes)\n",
    "    return new_lst\n",
    "\n",
    "move_zeros([1, 0, 1, 2, 0, 1, 3])"
   ]
  },
  {
   "cell_type": "code",
   "execution_count": 40,
   "id": "df2e318c",
   "metadata": {},
   "outputs": [
    {
     "data": {
      "text/plain": [
       "[1, 1, 2, 1, 3, 0, 0]"
      ]
     },
     "execution_count": 40,
     "metadata": {},
     "output_type": "execute_result"
    }
   ],
   "source": [
    "def move_zeros(arr):\n",
    "    l = [i for i in arr if isinstance(i, bool) or i!=0]\n",
    "    return l+[0]*(len(arr)-len(l))\n",
    "\n",
    "move_zeros([1, 0, 1, 2, 0, 1, 3])"
   ]
  },
  {
   "cell_type": "code",
   "execution_count": 56,
   "id": "7c8366ec",
   "metadata": {},
   "outputs": [
    {
     "name": "stdout",
     "output_type": "stream",
     "text": [
      "None\n"
     ]
    }
   ],
   "source": [
    "def make_readable(seconds):\n",
    "    hours = 0\n",
    "    minutes = 0\n",
    "    secs = 0\n",
    "    \n",
    "    if seconds < 59:\n",
    "        if seconds < 10:\n",
    "            return f\"00:00:0{seconds}\"\n",
    "        return f\"00:00:{seconds}\"\n",
    "    elif 59 < seconds < 3600:\n",
    "        minutes = seconds // 60\n",
    "        if seconds % 60 > 59:\n",
    "            minutes += 1\n",
    "            secs = (seconds % 60) - 60\n",
    "            if minutes > 59:\n",
    "                hours += 1\n",
    "                minutes = minutes - 60\n",
    "                return f\"0{hours}:{minutes}:{secs}\"\n",
    "            else:\n",
    "                return f\"00:{minutes}:{secs}\"\n",
    "        \n",
    "        \n",
    "        \n",
    "        \n",
    "#     if seconds > 3600:\n",
    "#         hours = seconds // 3600\n",
    "#         if seconds % 3600 > 59:\n",
    "#             hours += 1\n",
    "#             secs = (seconds % 3600) - 60\n",
    "#             if secs < 10:\n",
    "#                 str_secs = f\"0{secs}\"\n",
    "#     return f\"{hours}:{str_secs}\"\n",
    "print(make_readable(120))"
   ]
  },
  {
   "cell_type": "code",
   "execution_count": null,
   "id": "84f42748",
   "metadata": {},
   "outputs": [],
   "source": []
  }
 ],
 "metadata": {
  "kernelspec": {
   "display_name": "Python 3 (ipykernel)",
   "language": "python",
   "name": "python3"
  },
  "language_info": {
   "codemirror_mode": {
    "name": "ipython",
    "version": 3
   },
   "file_extension": ".py",
   "mimetype": "text/x-python",
   "name": "python",
   "nbconvert_exporter": "python",
   "pygments_lexer": "ipython3",
   "version": "3.11.5"
  }
 },
 "nbformat": 4,
 "nbformat_minor": 5
}
